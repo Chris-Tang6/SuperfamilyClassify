{
 "cells": [
  {
   "attachments": {},
   "cell_type": "markdown",
   "id": "8f710e05",
   "metadata": {},
   "source": [
    "In this notebook, we'll customize our own dataset based on TorchDrug lib."
   ]
  },
  {
   "cell_type": "code",
   "execution_count": 1,
   "id": "c6966ca0",
   "metadata": {
    "collapsed": false
   },
   "outputs": [],
   "source": [
    "import os\n",
    "os.environ[\"CUDA_VISIBLE_DEVICES\"]=\"0,1\"\n",
    "import pandas as pd\n",
    "from tqdm import tqdm\n",
    "import torch\n",
    "from torch.utils import data as torch_data\n",
    "from torchdrug import data, datasets, utils, transforms\n",
    "from torchdrug.core import Registry as R\n",
    "%matplotlib inline"
   ]
  },
  {
   "cell_type": "code",
   "execution_count": 2,
   "id": "6843f1fa",
   "metadata": {
    "collapsed": false
   },
   "outputs": [],
   "source": [
    "df = pd.read_csv(\"/home/tangwuguo/datasets/scope40/pdb_scope_db40.csv\")\n",
    "class_label = df['label']"
   ]
  },
  {
   "cell_type": "code",
   "execution_count": 3,
   "id": "2c9bf804",
   "metadata": {},
   "outputs": [
    {
     "data": {
      "text/plain": [
       "2065"
      ]
     },
     "execution_count": 3,
     "metadata": {},
     "output_type": "execute_result"
    }
   ],
   "source": [
    "class_label.unique().size"
   ]
  },
  {
   "attachments": {},
   "cell_type": "markdown",
   "id": "d2e767af",
   "metadata": {},
   "source": [
    "# 1.Customize Scope Dataset"
   ]
  },
  {
   "cell_type": "code",
   "execution_count": 4,
   "id": "0f3f6767",
   "metadata": {
    "collapsed": false
   },
   "outputs": [],
   "source": [
    "class ScopeSuperFamilyClassify(data.ProteinDataset):\n",
    "    source_file = \"pdb_scope_db40.csv\"\n",
    "    pdb_dir = \"dbstyle_all-40-2.08\"\n",
    "    processed_file = 'scope_superfamily.pkl.gz'\n",
    "\n",
    "    label2id_dir = 'pdb_scope_label2id.pkl'\n",
    "    id2label_dir = 'pdb_scope_id2label.pkl'\n",
    "    \n",
    "    splits = [\"train\", \"valid\", \"test\"]\n",
    "    split_ratio = [0.8, 0.1]\n",
    "    target_fields = [\"superfamily_label\"]  # label column\n",
    "\n",
    "    def __init__(self, path='/home/tangwuguo/datasets/scope40', verbose=1, **kwargs):\n",
    "        if not os.path.exists(path):\n",
    "            raise FileExistsError(\"Unknown path `%s` for SCOPE dataset\" % path)\n",
    "        self.path = path            \n",
    "        df = pd.read_csv(os.path.join(path, self.source_file))\n",
    "        pkl_file = os.path.join(path, self.processed_file)\n",
    "        \n",
    "        if os.path.exists(pkl_file):  \n",
    "            # load processed pkl\n",
    "            self.load_pickle(pkl_file, verbose=verbose, **kwargs)\n",
    "        else:            \n",
    "            pdb_files = df['id']\n",
    "            pdb_files = pdb_files.apply(lambda x: os.path.join(path, self.pdb_dir, x+'.ent')).tolist()\n",
    "            self.load_pdbs(pdb_files=pdb_files, verbose=1)\n",
    "            self.save_pickle(pkl_file, verbose=verbose)\n",
    "                    \n",
    "        len = df['id'].size\n",
    "        train_size = int(len*self.split_ratio[0])\n",
    "        valid_size = int(len*self.split_ratio[1])\n",
    "        test_size = len - train_size - valid_size\n",
    "        self.num_samples = [train_size, valid_size, test_size]\n",
    "        self.targets = {'superfamily_label': torch.tensor(df['label'].tolist())}\n",
    "    \n",
    "    \n",
    "    def split(self, keys=None):\n",
    "        keys = keys or self.splits\n",
    "        offset = 0\n",
    "        splits = []\n",
    "        for split_name, num_sample in zip(self.splits, self.num_samples):\n",
    "            if split_name in keys:\n",
    "                split = torch_data.Subset(self, range(offset, offset + num_sample))\n",
    "                splits.append(split)\n",
    "            offset += num_sample\n",
    "        return splits\n",
    "        \n",
    "    \n",
    "    def get_item(self, index):\n",
    "        if self.lazy:\n",
    "            protein = self.load_hdf5(self.pdb_files[index])\n",
    "        else:\n",
    "            protein = self.data[index].clone()\n",
    "        if hasattr(protein, \"residue_feature\"):\n",
    "            with protein.residue():\n",
    "                protein.residue_feature = protein.residue_feature.to_dense()\n",
    "        item = {\"graph\": protein, \"superfamily_label\": self.targets[\"superfamily_label\"][index]}\n",
    "        if self.transform:\n",
    "            item = self.transform(item)\n",
    "        return item"
   ]
  },
  {
   "cell_type": "code",
   "execution_count": 5,
   "id": "38c04d22",
   "metadata": {},
   "outputs": [
    {
     "name": "stderr",
     "output_type": "stream",
     "text": [
      "Loading /home/tangwuguo/datasets/scope40/scope_superfamily.pkl.gz: 100%|████████████████████████████████████████████████████████████████████████████| 14883/14883 [01:42<00:00, 144.97it/s]"
     ]
    },
    {
     "name": "stdout",
     "output_type": "stream",
     "text": [
      "Duration of second instantiation:  102.68638348579407\n"
     ]
    },
    {
     "name": "stderr",
     "output_type": "stream",
     "text": [
      "\n"
     ]
    }
   ],
   "source": [
    "import time\n",
    "\n",
    "truncate_transform = transforms.TruncateProtein(max_length=350, random=False)\n",
    "protein_view_transform = transforms.ProteinView(view=\"residue\")\n",
    "transform = transforms.Compose([truncate_transform, protein_view_transform])\n",
    "\n",
    "start_time = time.time()\n",
    "dataset = ScopeSuperFamilyClassify(\"/home/tangwuguo/datasets/scope40\", transform=transform)\n",
    "end_time = time.time()\n",
    "print(\"Duration of second instantiation: \", end_time - start_time)\n"
   ]
  },
  {
   "cell_type": "code",
   "execution_count": 6,
   "id": "bc57dc93",
   "metadata": {},
   "outputs": [
    {
     "data": {
      "text/plain": [
       "tensor(1797)"
      ]
     },
     "execution_count": 6,
     "metadata": {},
     "output_type": "execute_result"
    }
   ],
   "source": [
    "dataset[0][\"superfamily_label\"]"
   ]
  },
  {
   "cell_type": "code",
   "execution_count": 7,
   "id": "bf88cc0b",
   "metadata": {},
   "outputs": [
    {
     "name": "stdout",
     "output_type": "stream",
     "text": [
      "Shape of function labels for a protein:  torch.Size([])\n",
      "train samples: 12140, valid samples: 1517, test samples: 1519\n"
     ]
    }
   ],
   "source": [
    "train_set, valid_set, test_set = dataset.split()\n",
    "print(\"Shape of function labels for a protein: \", dataset[0][\"superfamily_label\"].shape)\n",
    "print(\"train samples: %d, valid samples: %d, test samples: %d\" % (len(train_set), len(valid_set), len(test_set)))"
   ]
  },
  {
   "cell_type": "code",
   "execution_count": 8,
   "id": "f67770b2",
   "metadata": {},
   "outputs": [
    {
     "data": {
      "text/plain": [
       "{'graph': Protein(num_atom=2559, num_bond=5232, num_residue=327),\n",
       " 'superfamily_label': tensor(1797)}"
      ]
     },
     "execution_count": 8,
     "metadata": {},
     "output_type": "execute_result"
    }
   ],
   "source": [
    "train_set[0]"
   ]
  },
  {
   "attachments": {},
   "cell_type": "markdown",
   "id": "7844c5f5",
   "metadata": {},
   "source": [
    "# 2.Dynamic Graph Cosntruct"
   ]
  },
  {
   "cell_type": "code",
   "execution_count": 9,
   "id": "a2eaf63d",
   "metadata": {},
   "outputs": [
    {
     "name": "stderr",
     "output_type": "stream",
     "text": [
      "/homeb/tangwuguo/miniconda3/envs/cbc23/lib/python3.8/site-packages/torchdrug/data/molecule.py:586: UserWarning: Matplotlib is currently using module://matplotlib_inline.backend_inline, which is a non-GUI backend, so cannot show the figure.\n",
      "  fig.show()\n"
     ]
    },
    {
     "data": {
      "image/png": "[encoded data removed]",
      "text/plain": [
       "<Figure size 300x300 with 1 Axes>"
      ]
     },
     "metadata": {},
     "output_type": "display_data"
    }
   ],
   "source": [
    "from torchdrug import data\n",
    "\n",
    "protein = dataset[0][\"graph\"]\n",
    "is_first_two = (protein.residue_number == 4) | (protein.residue_number == 5)\n",
    "first_two = protein.residue_mask(is_first_two, compact=True)\n",
    "first_two.visualize()"
   ]
  },
  {
   "cell_type": "code",
   "execution_count": 10,
   "id": "bab5f630",
   "metadata": {},
   "outputs": [
    {
     "data": {
      "text/plain": [
       "tensor([  4,   5,   6,   7,   8,   9,  10,  11,  12,  13,  14,  15,  16,  17,\n",
       "         18,  19,  20,  21,  22,  23,  24,  25,  26,  27,  28,  29,  30,  31,\n",
       "         32,  33,  34,  35,  36,  37,  38,  39,  40,  41,  42,  43,  44,  45,\n",
       "         46,  47,  48,  49,  50,  51,  52,  53,  54,  55,  56,  57,  58,  59,\n",
       "         60,  61,  62,  63,  64,  65,  66,  67,  68,  69,  70,  71,  72,  73,\n",
       "         74,  75,  76,  77,  78,  79,  80,  81,  82,  83,  84,  85,  86,  87,\n",
       "         88,  89,  90,  91,  92,  93,  94,  95,  96,  97,  98,  99, 100, 101,\n",
       "        102, 103, 104, 105, 106, 107, 108, 109, 110, 111, 112, 113, 114, 115,\n",
       "        116, 117, 118, 119, 120, 121, 122, 123, 124, 125, 126, 127, 128, 129,\n",
       "        130, 131, 132, 133, 134, 135, 136, 137, 138, 139, 140, 141, 142, 143,\n",
       "        144, 145, 146, 147, 148, 149, 150, 151, 152, 153, 154, 155, 156, 157,\n",
       "        158, 159, 160, 161, 162, 163, 164, 165, 166, 167, 168, 169, 170, 171,\n",
       "        172, 173, 174, 175, 176, 177, 178, 179, 180, 181, 182, 183, 184, 185,\n",
       "        186, 187, 188, 189, 190, 191, 192, 193, 194, 195, 196, 197, 198, 199,\n",
       "        200, 201, 202, 203, 204, 205, 206, 207, 208, 209, 210, 211, 212, 213,\n",
       "        214, 215, 216, 217, 218, 219, 220, 221, 222, 223, 224, 225, 226, 227,\n",
       "        228, 229, 230, 231, 232, 233, 234, 235, 236, 237, 238, 239, 240, 241,\n",
       "        242, 243, 244, 245, 246, 247, 248, 249, 250, 251, 252, 253, 254, 255,\n",
       "        256, 257, 258, 259, 260, 261, 262, 263, 264, 265, 266, 267, 268, 269,\n",
       "        270, 271, 272, 273, 274, 275, 276, 277, 278, 279, 280, 281, 282, 283,\n",
       "        284, 285, 286, 287, 288, 289, 290, 291, 292, 293, 294, 295, 296, 297,\n",
       "        298, 299, 300, 301, 302, 303, 304, 305, 306, 307, 308, 309, 310, 311,\n",
       "        312, 313, 314, 315, 316, 317, 318, 319, 320, 321, 322, 323, 324, 325,\n",
       "        326, 327, 328, 329, 330])"
      ]
     },
     "execution_count": 10,
     "metadata": {},
     "output_type": "execute_result"
    }
   ],
   "source": [
    "protein.residue_number"
   ]
  },
  {
   "cell_type": "code",
   "execution_count": 11,
   "id": "a62fcbfb",
   "metadata": {},
   "outputs": [],
   "source": [
    "from torchdrug import layers\n",
    "from torchdrug.layers import geometry"
   ]
  },
  {
   "cell_type": "code",
   "execution_count": 12,
   "id": "d6a044c1",
   "metadata": {},
   "outputs": [
    {
     "name": "stdout",
     "output_type": "stream",
     "text": [
      "Graph before:  PackedProtein(batch_size=1, num_atoms=[2559], num_bonds=[5232], num_residues=[327])\n",
      "Graph after:  PackedProtein(batch_size=1, num_atoms=[327], num_bonds=[6657], num_residues=[327])\n",
      "Average degree:  tensor(40.7156)\n",
      "Maximum degree:  tensor(79.)\n",
      "Minimum degree:  tensor(12.)\n",
      "Number of zero-degree nodes:  tensor(0)\n"
     ]
    }
   ],
   "source": [
    "graph_construction_model = layers.GraphConstruction(node_layers=[geometry.AlphaCarbonNode()], \n",
    "                                                    edge_layers=[geometry.SpatialEdge(radius=10.0, min_distance=5),\n",
    "                                                                 geometry.KNNEdge(k=10, min_distance=5),\n",
    "                                                                 geometry.SequentialEdge(max_distance=2)],\n",
    "                                                    edge_feature=\"gearnet\")\n",
    "\n",
    "_protein = data.Protein.pack([protein])\n",
    "protein_ = graph_construction_model(_protein)\n",
    "print(\"Graph before: \", _protein)\n",
    "print(\"Graph after: \", protein_)\n",
    "\n",
    "degree = protein_.degree_in + protein_.degree_out\n",
    "print(\"Average degree: \", degree.mean())\n",
    "print(\"Maximum degree: \", degree.max())\n",
    "print(\"Minimum degree: \", degree.min())\n",
    "print(\"Number of zero-degree nodes: \", (degree == 0).sum())"
   ]
  },
  {
   "cell_type": "code",
   "execution_count": 13,
   "id": "b1b3b65a",
   "metadata": {},
   "outputs": [
    {
     "name": "stdout",
     "output_type": "stream",
     "text": [
      "torch.Size([327, 66])\n",
      "torch.Size([327, 21])\n",
      "torch.Size([6657, 59])\n",
      "tensor(327)\n",
      "tensor(7)\n",
      "tensor(indices=tensor([[232, 230, 163,  ..., 216, 217, 215],\n",
      "                       [193, 195, 194,  ..., 210, 210, 210],\n",
      "                       [  1,   1,   1,  ...,   0,   0,   0]]),\n",
      "       values=tensor([1., 1., 1.,  ..., 1., 1., 1.]),\n",
      "       size=(327, 327, 7), nnz=6657, layout=torch.sparse_coo)\n",
      "PackedProtein(batch_size=1, num_atoms=[327], num_bonds=[6657], num_residues=[327])\n"
     ]
    }
   ],
   "source": [
    "print(protein_.atom_feature.shape)\n",
    "print(protein_.residue_feature.shape)\n",
    "print(protein_.edge_feature.shape)\n",
    "print(protein_.num_node)\n",
    "print(protein_.num_relation)\n",
    "print(protein_.adjacency)\n",
    "print(protein_)"
   ]
  },
  {
   "attachments": {},
   "cell_type": "markdown",
   "id": "44ba2deb",
   "metadata": {},
   "source": [
    "# 3.GearNet"
   ]
  },
  {
   "cell_type": "code",
   "execution_count": 14,
   "id": "d5c0fe1b",
   "metadata": {},
   "outputs": [],
   "source": [
    "from torchdrug import models\n",
    "from torchdrug import tasks"
   ]
  },
  {
   "cell_type": "code",
   "execution_count": 15,
   "id": "d25dc20a",
   "metadata": {},
   "outputs": [],
   "source": [
    "gearnet = models.GearNet(input_dim=21, hidden_dims=[512, 512, 512], num_relation=7,\n",
    "                         batch_norm=True, concat_hidden=True, short_cut=True, readout=\"sum\")\n",
    "\n",
    "gearnet_edge = models.GearNet(input_dim=21, hidden_dims=[512, 512, 512], \n",
    "                              num_relation=7, edge_input_dim=59, num_angle_bin=8,\n",
    "                              batch_norm=True, concat_hidden=True, short_cut=True, readout=\"sum\")"
   ]
  },
  {
   "cell_type": "code",
   "execution_count": 16,
   "id": "f575e3c6",
   "metadata": {},
   "outputs": [],
   "source": [
    "graph_construction_model = layers.GraphConstruction(node_layers=[geometry.AlphaCarbonNode()],\n",
    "                                                    edge_layers=[geometry.SpatialEdge(radius=10.0, min_distance=5),\n",
    "                                                                 geometry.KNNEdge(k=10, min_distance=5),\n",
    "                                                                 geometry.SequentialEdge(max_distance=2)],\n",
    "                                                    edge_feature=\"gearnet\")\n",
    "\n",
    "task = tasks.PropertyPrediction(gearnet, graph_construction_model=graph_construction_model, num_mlp_layer=3, \n",
    "                                          task=dataset.tasks, num_class=2065, criterion=\"ce\", metric=[\"auprc\", \"auroc\"], verbose=1)"
   ]
  },
  {
   "cell_type": "code",
   "execution_count": 17,
   "id": "dcb97914",
   "metadata": {},
   "outputs": [
    {
     "data": {
      "text/plain": [
       "['superfamily_label']"
      ]
     },
     "execution_count": 17,
     "metadata": {},
     "output_type": "execute_result"
    }
   ],
   "source": [
    "dataset.tasks"
   ]
  },
  {
   "cell_type": "code",
   "execution_count": 18,
   "id": "e6d94dbb",
   "metadata": {},
   "outputs": [
    {
     "name": "stdout",
     "output_type": "stream",
     "text": [
      "14:39:27   Preprocess training set\n",
      "14:40:28   {'batch_size': 64,\n",
      " 'class': 'core.Engine',\n",
      " 'gpus': [1],\n",
      " 'gradient_interval': 1,\n",
      " 'log_interval': 100,\n",
      " 'logger': 'logging',\n",
      " 'num_worker': 0,\n",
      " 'optimizer': {'amsgrad': False,\n",
      "               'betas': (0.9, 0.999),\n",
      "               'class': 'optim.Adam',\n",
      "               'eps': 1e-08,\n",
      "               'lr': 0.0001,\n",
      "               'weight_decay': 0},\n",
      " 'scheduler': None,\n",
      " 'task': {'class': 'tasks.PropertyPrediction',\n",
      "          'criterion': 'ce',\n",
      "          'graph_construction_model': {'class': 'layers.GraphConstruction',\n",
      "                                       'edge_feature': 'gearnet',\n",
      "                                       'edge_layers': [SpatialEdge(),\n",
      "                                                       KNNEdge(),\n",
      "                                                       SequentialEdge()],\n",
      "                                       'node_layers': [AlphaCarbonNode()]},\n",
      "          'metric': ['auprc', 'auroc'],\n",
      "          'model': {'activation': 'relu',\n",
      "                    'batch_norm': True,\n",
      "                    'class': 'models.GearNet',\n",
      "                    'concat_hidden': True,\n",
      "                    'edge_input_dim': None,\n",
      "                    'hidden_dims': [512, 512, 512],\n",
      "                    'input_dim': 21,\n",
      "                    'num_angle_bin': None,\n",
      "                    'num_relation': 7,\n",
      "                    'readout': 'sum',\n",
      "                    'short_cut': True},\n",
      "          'normalization': True,\n",
      "          'num_class': 2065,\n",
      "          'num_mlp_layer': 3,\n",
      "          'task': ['superfamily_label'],\n",
      "          'verbose': 1},\n",
      " 'test_set': {'class': 'dataset.Subset',\n",
      "              'dataset': {'class': 'ScopeSuperFamilyClassify',\n",
      "                          'path': '/home/tangwuguo/datasets/scope40',\n",
      "                          'transform': {'class': 'transforms.Compose',\n",
      "                                        'transforms': [<torchdrug.transforms.transform.TruncateProtein object at 0x7f46dea8e5b0>,\n",
      "                                                       <torchdrug.transforms.transform.ProteinView object at 0x7f485836c490>]},\n",
      "                          'verbose': 1},\n",
      "              'indices': range(13657, 15176)},\n",
      " 'train_set': {'class': 'dataset.Subset',\n",
      "               'dataset': {'class': 'ScopeSuperFamilyClassify',\n",
      "                           'path': '/home/tangwuguo/datasets/scope40',\n",
      "                           'transform': {'class': 'transforms.Compose',\n",
      "                                         'transforms': [<torchdrug.transforms.transform.TruncateProtein object at 0x7f46dea8e5b0>,\n",
      "                                                        <torchdrug.transforms.transform.ProteinView object at 0x7f485836c490>]},\n",
      "                           'verbose': 1},\n",
      "               'indices': range(0, 12140)},\n",
      " 'valid_set': {'class': 'dataset.Subset',\n",
      "               'dataset': {'class': 'ScopeSuperFamilyClassify',\n",
      "                           'path': '/home/tangwuguo/datasets/scope40',\n",
      "                           'transform': {'class': 'transforms.Compose',\n",
      "                                         'transforms': [<torchdrug.transforms.transform.TruncateProtein object at 0x7f46dea8e5b0>,\n",
      "                                                        <torchdrug.transforms.transform.ProteinView object at 0x7f485836c490>]},\n",
      "                           'verbose': 1},\n",
      "               'indices': range(12140, 13657)}}\n",
      "14:40:29   >>>>>>>>>>>>>>>>>>>>>>>>>>>>>>\n",
      "14:40:29   Epoch 0 begin\n",
      "14:40:31   >>>>>>>>>>>>>>>>>>>>>>>>>>>>>>\n",
      "14:40:31   cross entropy: 15.0616\n",
      "14:40:31   cross entropy [superfamily_label]: 15.0616\n",
      "14:41:20   >>>>>>>>>>>>>>>>>>>>>>>>>>>>>>\n",
      "14:41:20   cross entropy: 7.10387\n",
      "14:41:20   cross entropy [superfamily_label]: 7.10387\n",
      "14:42:08   >>>>>>>>>>>>>>>>>>>>>>>>>>>>>>\n",
      "14:42:08   Epoch 0 end\n",
      "14:42:08   duration: 1.66 mins\n",
      "14:42:08   speed: 1.91 batch / sec\n",
      "14:42:08   ETA: 0.00 secs\n",
      "14:42:08   max GPU memory: 1217.9 MiB\n",
      "14:42:08   ------------------------------\n",
      "14:42:08   average cross entropy: 8.03843\n",
      "14:42:08   average cross entropy [superfamily_label]: 8.03843\n",
      "14:42:08   >>>>>>>>>>>>>>>>>>>>>>>>>>>>>>\n",
      "14:42:08   Evaluate on valid\n",
      "14:42:20   ------------------------------\n",
      "14:42:20   auprc [superfamily_label]: 1000.22\n",
      "14:42:20   auroc [superfamily_label]: 0\n"
     ]
    },
    {
     "data": {
      "text/plain": [
       "{'auprc [superfamily_label]': tensor(1000.2250, device='cuda:1'),\n",
       " 'auroc [superfamily_label]': tensor(0., device='cuda:1')}"
      ]
     },
     "execution_count": 18,
     "metadata": {},
     "output_type": "execute_result"
    }
   ],
   "source": [
    "from torchdrug import core\n",
    "\n",
    "optimizer = torch.optim.Adam(task.parameters(), lr=1e-4)\n",
    "solver = core.Engine(task, train_set, valid_set, test_set, optimizer,\n",
    "                     gpus=[1], batch_size=64)\n",
    "solver.train(num_epoch=1)\n",
    "solver.evaluate(\"valid\")\n",
    "# solver.evaluate(\"test\")"
   ]
  },
  {
   "cell_type": "code",
   "execution_count": null,
   "id": "1bd4f359",
   "metadata": {},
   "outputs": [],
   "source": []
  }
 ],
 "metadata": {
  "kernelspec": {
   "display_name": "Python 3 (ipykernel)",
   "language": "python",
   "name": "python3"
  },
  "language_info": {
   "codemirror_mode": {
    "name": "ipython",
    "version": 3
   },
   "file_extension": ".py",
   "mimetype": "text/x-python",
   "name": "python",
   "nbconvert_exporter": "python",
   "pygments_lexer": "ipython3",
   "version": "3.8.15"
  },
  "varInspector": {
   "cols": {
    "lenName": 16,
    "lenType": 16,
    "lenVar": 40
   },
   "kernels_config": {
    "python": {
     "delete_cmd_postfix": "",
     "delete_cmd_prefix": "del ",
     "library": "var_list.py",
     "varRefreshCmd": "print(var_dic_list())"
    },
    "r": {
     "delete_cmd_postfix": ") ",
     "delete_cmd_prefix": "rm(",
     "library": "var_list.r",
     "varRefreshCmd": "cat(var_dic_list()) "
    }
   },
   "types_to_exclude": [
    "module",
    "function",
    "builtin_function_or_method",
    "instance",
    "_Feature"
   ],
   "window_display": false
  }
 },
 "nbformat": 4,
 "nbformat_minor": 5
}
